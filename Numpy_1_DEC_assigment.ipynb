{
 "cells": [
  {
   "cell_type": "code",
   "execution_count": null,
   "id": "7730856c",
   "metadata": {},
   "outputs": [],
   "source": [
    "#Assigment 2D and 3D ones\n",
    "np.ones((2))\n",
    "\n",
    "# Assigment lets try \n",
    "np.mean()\n",
    "np.std()\n",
    "np.min()\n",
    "np.max()"
   ]
  },
  {
   "cell_type": "code",
   "execution_count": 2,
   "id": "234d8d96",
   "metadata": {},
   "outputs": [
    {
     "data": {
      "text/plain": [
       "array([[1., 1., 1.],\n",
       "       [1., 1., 1.]])"
      ]
     },
     "execution_count": 2,
     "metadata": {},
     "output_type": "execute_result"
    }
   ],
   "source": [
    "import numpy as np\n",
    "np.ones((2,3))    #2D array"
   ]
  },
  {
   "cell_type": "code",
   "execution_count": 3,
   "id": "f788639a",
   "metadata": {},
   "outputs": [
    {
     "data": {
      "text/plain": [
       "array([[[1., 1., 1.],\n",
       "        [1., 1., 1.]],\n",
       "\n",
       "       [[1., 1., 1.],\n",
       "        [1., 1., 1.]]])"
      ]
     },
     "execution_count": 3,
     "metadata": {},
     "output_type": "execute_result"
    }
   ],
   "source": [
    "#3D array \n",
    "np.ones((2,2,3))  "
   ]
  },
  {
   "cell_type": "code",
   "execution_count": 4,
   "id": "ac257b23",
   "metadata": {},
   "outputs": [],
   "source": [
    "a = np.array([[33,54,77],\n",
    "              [17,49,89],\n",
    "              [71,39,99]])"
   ]
  },
  {
   "cell_type": "code",
   "execution_count": 5,
   "id": "e3dcb1c6",
   "metadata": {},
   "outputs": [
    {
     "data": {
      "text/plain": [
       "58.666666666666664"
      ]
     },
     "execution_count": 5,
     "metadata": {},
     "output_type": "execute_result"
    }
   ],
   "source": [
    "#mean\n",
    "np.mean(a)"
   ]
  },
  {
   "cell_type": "code",
   "execution_count": 6,
   "id": "2ea662f0",
   "metadata": {},
   "outputs": [
    {
     "data": {
      "text/plain": [
       "25.673159351959608"
      ]
     },
     "execution_count": 6,
     "metadata": {},
     "output_type": "execute_result"
    }
   ],
   "source": [
    "#std \n",
    "np.std(a)"
   ]
  },
  {
   "cell_type": "code",
   "execution_count": 7,
   "id": "630ba976",
   "metadata": {},
   "outputs": [
    {
     "data": {
      "text/plain": [
       "17"
      ]
     },
     "execution_count": 7,
     "metadata": {},
     "output_type": "execute_result"
    }
   ],
   "source": [
    "#min\n",
    "np.min(a)"
   ]
  },
  {
   "cell_type": "code",
   "execution_count": 8,
   "id": "b86b3620",
   "metadata": {},
   "outputs": [
    {
     "data": {
      "text/plain": [
       "99"
      ]
     },
     "execution_count": 8,
     "metadata": {},
     "output_type": "execute_result"
    }
   ],
   "source": [
    "#max\n",
    "np.max(a)"
   ]
  },
  {
   "cell_type": "code",
   "execution_count": 9,
   "id": "d6807d3d",
   "metadata": {},
   "outputs": [
    {
     "data": {
      "text/plain": [
       "array([40.33333333, 47.33333333, 88.33333333])"
      ]
     },
     "execution_count": 9,
     "metadata": {},
     "output_type": "execute_result"
    }
   ],
   "source": [
    "# cloumnwise mean\n",
    "np.mean(a,axis=0) "
   ]
  },
  {
   "cell_type": "code",
   "execution_count": 10,
   "id": "e7196dba",
   "metadata": {},
   "outputs": [
    {
     "data": {
      "text/plain": [
       "array([22.64705034,  6.23609564,  8.99382504])"
      ]
     },
     "execution_count": 10,
     "metadata": {},
     "output_type": "execute_result"
    }
   ],
   "source": [
    "# cloumnwise std \n",
    "np.std(a,axis=0) "
   ]
  },
  {
   "cell_type": "code",
   "execution_count": 14,
   "id": "66599a99",
   "metadata": {},
   "outputs": [
    {
     "data": {
      "text/plain": [
       "array([17, 39, 77])"
      ]
     },
     "execution_count": 14,
     "metadata": {},
     "output_type": "execute_result"
    }
   ],
   "source": [
    "#cloumnwise min\n",
    "np.min(a,axis=0)"
   ]
  },
  {
   "cell_type": "code",
   "execution_count": 15,
   "id": "0d8251b4",
   "metadata": {},
   "outputs": [
    {
     "data": {
      "text/plain": [
       "array([71, 54, 99])"
      ]
     },
     "execution_count": 15,
     "metadata": {},
     "output_type": "execute_result"
    }
   ],
   "source": [
    "#cloumnwise max\n",
    "np.max(a,axis=0)"
   ]
  },
  {
   "cell_type": "code",
   "execution_count": 16,
   "id": "0425b81d",
   "metadata": {},
   "outputs": [
    {
     "data": {
      "text/plain": [
       "array([54.66666667, 51.66666667, 69.66666667])"
      ]
     },
     "execution_count": 16,
     "metadata": {},
     "output_type": "execute_result"
    }
   ],
   "source": [
    "# rowwise mean\n",
    "np.mean(a,axis=1)"
   ]
  },
  {
   "cell_type": "code",
   "execution_count": 17,
   "id": "6518cbc9",
   "metadata": {},
   "outputs": [
    {
     "data": {
      "text/plain": [
       "array([17.9691093 , 29.45429605, 24.51303508])"
      ]
     },
     "execution_count": 17,
     "metadata": {},
     "output_type": "execute_result"
    }
   ],
   "source": [
    "# rowwise std\n",
    "np.std(a,axis=1)"
   ]
  },
  {
   "cell_type": "code",
   "execution_count": 18,
   "id": "1f89dfc0",
   "metadata": {},
   "outputs": [
    {
     "data": {
      "text/plain": [
       "array([33, 17, 39])"
      ]
     },
     "execution_count": 18,
     "metadata": {},
     "output_type": "execute_result"
    }
   ],
   "source": [
    "#rowwise min\n",
    "np.min(a,axis=1)"
   ]
  },
  {
   "cell_type": "code",
   "execution_count": 19,
   "id": "b2a3e07b",
   "metadata": {},
   "outputs": [
    {
     "data": {
      "text/plain": [
       "array([77, 89, 99])"
      ]
     },
     "execution_count": 19,
     "metadata": {},
     "output_type": "execute_result"
    }
   ],
   "source": [
    "#rowwise max\n",
    "np.max(a,axis=1)"
   ]
  },
  {
   "cell_type": "code",
   "execution_count": null,
   "id": "da967054",
   "metadata": {},
   "outputs": [],
   "source": []
  }
 ],
 "metadata": {
  "kernelspec": {
   "display_name": "Python 3 (ipykernel)",
   "language": "python",
   "name": "python3"
  },
  "language_info": {
   "codemirror_mode": {
    "name": "ipython",
    "version": 3
   },
   "file_extension": ".py",
   "mimetype": "text/x-python",
   "name": "python",
   "nbconvert_exporter": "python",
   "pygments_lexer": "ipython3",
   "version": "3.9.13"
  }
 },
 "nbformat": 4,
 "nbformat_minor": 5
}
